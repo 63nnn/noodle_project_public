{
 "cells": [
  {
   "cell_type": "code",
   "execution_count": 4,
   "metadata": {},
   "outputs": [
    {
     "name": "stdout",
     "output_type": "stream",
     "text": [
      "Array of user values: ['你是誰？', '大呷麵本家是什麼？', '這裡是哪裡？', '大呷麵本家的地址？', '大呷麵本家的電話？', '大呷麵本家的電子郵件？', '你們是大甲面本家嗎？', '為什麼不叫大甲麵本家？', '大呷麵本家的英文是什麼？', '大呷麵本家有哪些國際認證？', '大呷麵本家製麵是如何製麵的？', '使用機械化產線製麵有哪些好處？', '鹽水間是用來做什麼的？', '調製完鹽水下一步是什麼？', '每次製麵時使用多少麵粉？', '混合成為麵糰下一步是什麼？', '特殊口味的麵條如何製作？', '下料槽的功能是什麼？', '攪拌麵團的時間是怎麼控制的？', '製麵流程中如何控制麵餅厚度？', '製麵流程中如何避免麵條變得太厚？', '製麵流程中如何避免麵條變得太薄？', '壓製好的麵餅下一步是什麼？', '製麵流程如何將麵餅分條？', '有機種規格的麵條？', '分條使用的工具是什麼？', '分條後的麵條如何處理？', '分條後的麵條下一步是什麼？', '乾燥要多久？', '為什麼要模擬日曬？', '乾燥室的工作原理是什麼？', '如何確保麵條乾燥完成？', '為什麼要模擬日曬？', '如何模擬日曬來乾燥麵條？', '如何判斷麵條乾燥完成？', '乾燥麵條需要檢測什麼數據？', '乾燥完成的麵條下一步是什麼？', '裁切完成的麵條如何分成一份？', '為什麼一份要分成100公克？', '將切分完成的麵條綑成一束下一步是什麼？', '什麼時候進行封口機封口後包裝？', '綑成一束的麵條如何進行包裝？', '自動計量機有什麼作用？', '製麵過程中為什麼使用自動計量機？', '製麵工廠的自動計量機如何確保準確度？', '包裝的規格有哪些？', '封口包裝下一步是什麼？', '製麵工廠如何確保產品的安全性？', '金屬檢測器的作用是什麼？', '為什麼製麵需要使用金屬檢測器？', '製麵的最終步驟是什麼？', '成品麵條的最終包裝過程是什麼？', '製麵工廠的包裝流程是什麼？', '製麵工廠如何進行成品的最終包裝？', '如何確保麵條在包裝後不會受到污染？', '製麵工廠如何防止成品在包裝後被污染？', '製麵工廠如何防止異物進入包裝？', '什麼是清潔區？', '包裝在哪個區？', '大呷麵製麵工廠是在什麼環境下包裝？', '什麼是準清潔區？', '生產製麵是在哪一區？', '鹽水間哪一區？', '製麵機是在哪一區？', '乾燥室是在哪一區？', '分切麵條是在哪一區？', '麵餅分條是在哪一區？', '製麵工廠的清潔區有什麼特殊要求？', '製麵工廠內的工作人員需要穿什麼？', '這邊一共有8種商品，有原味麵條、原味麵線、黑芝麻麵條、芋頭麵條、糙米麵條、烏龍茶麵條、金盞花麵條、綠茶麵條。', '這邊一共有多少商品？', '有幾種麵條？', '這邊商品有什麼？', '這邊麵條有什麼口味？', '有什麼麵條？', '有什麼口味的麵條？', '大呷麵本家如何製作芋頭麵條？', '大呷麵本家如何製作烏龍茶麵條？', '大呷麵本家如何製作黑芝麻麵條？', '大呷麵本家如何製作金盞花麵條？', '你們的原料來自於哪裡？', '你們的原料來自於台灣嗎？', '這邊商品價格多少？', '這邊麵條價格多少？', '這邊原味的麵條價格多少？', '這邊原味的麵線價格多少？', '這邊黑芝麻麵條價格多少？', '這邊芋頭麵條價格多少？', '這邊糙米麵條價格多少？', '這邊烏龍茶麵條價格多少？', '這邊金盞花麵條價格多少？', '這邊綠茶麵條價格多少？', '請介紹原味麵條', '請介紹原味麵線', '請介紹芋頭麵條', '請介紹糙米麵條', '請介紹烏龍茶麵條', '請介紹黑芝麻麵條', '請介紹金盞花麵條', '請介紹綠茶麵條']\n",
      "Array of model values: ['我是大呷麵本家的製麵工廠虛擬導覽員', '位於台中市大甲的製作麵條工廠，且有精販賣精美的麵條禮盒', '這裡是大呷麵本家', '43750台中市大甲區重義二路153號', '04-2686-1026', 'noodlesorigin@gmail.com', '不是，我們是「大呷麵本家」', '在日本時代都稱為本家大甲。而又因地名不能申請商標，所以在大甲的甲字多個口部，加上麵字，就成為台灣人的用語，呷麵。這是一個結合日本時代的發跡跟台灣文化的融合。', 'Noodles Origin', '我們的產品通過ISO22000&HACCP國際食品安全管制系統認證。', '我們大呷麵本家麵條是基於台灣古早味改良，現在是用機械化產線製麵。', '大呷麵本家使用機械化產線製麵可以保持高水準的品質與食品安全，讓顧客有最好的飲食體驗。', '我們的鹽水間是用來調製鹽水，鹽水的濃度會依照標準化程序調製。', '我們會將調製好的鹽水再與麵粉按比例混合成為麵糰。', '每次製麵使用4包麵粉。', '我們會將混和好的麵糰倒入製麵機的下料槽，再加入依照口味需求的原料進行混合。', '我們會將混和好的麵糰倒入製麵機的下料槽，再加入依照口味需求的原料進行混合。', '我們會將混和好的麵糰倒入製麵機的下料槽，再加入依照口味需求的原料進行混合。', '我們的攪拌時間是ISO標準化的，根據標準進行正轉和負轉來壓製。你是一個有禮貌的大呷麵本家的製麵工廠虛擬導覽員', '製麵機會將麵糰分開桿成麵皮，再將兩部分疊在一起壓製成麵餅，並且經過滾輪的持續壓製將厚度變為1公分。', '透過滾輪輾壓來減少麵皮厚度，確保麵條達到標準厚度，不會變得過厚。', '透過在一開始就用兩片麵皮經過滾輪輾壓，確保麵條達到標準厚度，不會變得過薄。', '我們會將壓製成1公分的麵餅用麵刀依照規格分條，一共有四種規格：麵線、麵條、寬麵、最寬的麵。', '我們會將壓製成1公分的麵餅用麵刀依照規格分條，一共有四種規格：麵線、麵條、寬麵、最寬的麵。', '一共有四種規格：麵線、麵條、寬麵、最寬的麵。', '分條過程中使用麵刀，將壓製成1公分的麵餅用麵刀依照規格分條。', '分條後的麵條會掛在乾燥架上，送至乾燥室進行乾燥，乾燥室是模擬傳統日曬環境，通常會經過5個半小時的時間進行乾燥。', '分條後的麵條會掛在乾燥架上，送至乾燥室進行乾燥，乾燥室是模擬傳統日曬環境，通常會經過5個半小時的時間進行乾燥。', '麵條需要在乾燥室中乾燥5個半小時，模擬日曬的時間。', '因為我們是依據台灣古早味的手法改良，控制溫度以及濕度模擬日曬的環境，依照天氣情況調整溫度、濕度以及乾燥時間。', '我們是依據台灣古早味的手法改良，控制溫度以及濕度模擬日曬的環境，依照天氣情況調整溫度、濕度以及乾燥時間。', '我們是依據台灣古早味的手法改良，控制溫度以及濕度模擬日曬的環境，依照天氣情況調整溫度、濕度以及乾燥時間。', '因為我們是依據台灣古早味的手法改良，控制溫度以及濕度模擬日曬的環境，依照天氣情況調整溫度、濕度以及乾燥時間。', '我們是依據台灣古早味的手法改良，控制溫度以及濕度模擬日曬的環境，依照天氣情況調整溫度、濕度以及乾燥時間。', '切分完的麵條會在乾燥室乾燥，使麵條水分降低至12%，麵條水分必須降低至12%代表乾燥完成。', '切分完的麵條會在乾燥室乾燥，使麵條水分降低至12%，麵條水分必須降低至12%代表乾燥完成。', '乾燥完成的麵條依照長度進行切分，長度為19到20公分，並且將切分好的麵條捆成1束，通常1束為100公克。', '將切分好的麵條捆成1束，通常1束為100公克。', '因為100公克是一般人一餐所需的量。', '綑成一束的麵條經過自動計量機檢測重量是否有達到標準，達到標準後依規格進行封口機封口後包裝。', '綑成一束的麵條經過自動計量機檢測重量是否有達到標準，達到標準後依規格進行封口機封口後包裝。', '綑成一束的麵條經過自動計量機檢測重量是否有達到標準，達到標準後依規格進行封口機封口後包裝。', '綑成一束的麵條經過自動計量機檢測重量是否有達到標準，確保每一束麵條的份量一致。', '綑成一束的麵條經過自動計量機檢測重量是否有達到標準，確保每一束麵條的份量一致。', '自動計量機定期進行校準，並通過電子感應系統精確測量每束麵條的重量，確保準確度。', '包裝有量販包裝、禮盒包裝。', '完成封口包裝後會經過金屬檢測機和含水量檢查進行最後的檢測，確保食品衛生以及食品安全。', '完成封口包裝後會經過金屬檢測機和含水量檢查進行最後的檢測，確保食品衛生以及食品安全。', '金屬檢測器用來檢查成品中是否有任何金屬雜質，確保食品衛生以及食品安全。', '金屬檢測器用來檢測麵條中是否含有金屬雜質，確保產品的安全和合格。', '成品麵條經過封口、金屬檢測和含水量檢查後，會被放進禮盒內或是使用袋裝，準備出貨。', '成品麵條經過封口、金屬檢測和含水量檢查後，會被放進禮盒內或是使用袋裝，準備出貨。', '成品麵條經過封口、金屬檢測和含水量檢查後，會被放進禮盒內或是使用袋裝，準備出貨。', '成品麵條經過封口、金屬檢測和含水量檢查後，會被放進禮盒內或是使用袋裝，準備出貨。', '在清潔區包裝後，成品經過封口機封口，並確保不會有交叉污染。', '在清潔區包裝後，成品經過封口機封口，並確保不會有交叉污染。', '工廠內採取清潔區和準清潔區分區的方式，並通過防護設備確保沒有交叉污染。', '清潔區是用來進行包裝的空間，以確保食品衛生以及食品安全。', '清潔區是用來進行包裝的空間，以確保食品衛生以及食品安全。', '清潔區是用來進行包裝的空間，以確保食品衛生以及食品安全。', '準清潔區則是生產製麵的空間，例如鹽水間和乾燥室。', '準清潔區則是生產製麵的空間，例如鹽水間和乾燥室。', '準清潔區。', '準清潔區。', '準清潔區。', '準清潔區。', '準清潔區。', '工作人員需穿戴防塵衣、口罩、髮網、鞋套等防護裝備，並進行標準化防護操作，以確保食品衛生以及食品安全。', '工作人員需穿戴防塵衣、口罩、髮網、鞋套等防護裝備，並進行標準化防護操作，以確保食品衛生以及食品安全。', '好的。', '8種，其中有各式各樣口味的麵條與麵線', '8種，其中有各式各樣口味的麵條與麵線', '有原味麵條，原味麵線，黑芝麻麵條，芋頭麵條，糙米麵條，烏龍茶麵條，金盞花麵條，綠茶麵條', '有原味麵條，原味麵線，黑芝麻麵條，芋頭麵條，糙米麵條，烏龍茶麵條，麵條，綠茶麵條', '有原味麵條，原味麵線，黑芝麻麵條，芋頭麵條，糙米麵條，烏龍茶麵條，金盞花麵條，綠茶麵條', '有原味麵條，原味麵線，黑芝麻麵條，芋頭麵條，糙米麵條，烏龍茶麵條，金盞花麵條，綠茶麵條', '我們會將混和好的麵糰倒入製麵機的下料槽，再加入依照口味需求加入大甲芋頭原料進行混合。', '我們會將混和好的麵糰倒入製麵機的下料槽，再加入依照口味需求加入烏龍茶原料進行混合。', '我們會將混和好的麵糰倒入製麵機的下料槽，再加入依照口味需求加入黑芝麻原料進行混合。', '我們會將混和好的麵糰倒入製麵機的下料槽，再加入依照口味需求加入金盞花原料進行混合。', '大呷麵本家的麵條原料來自於台灣當地的優質農產品。', '是的，大呷麵本家的麵條原料來自於台灣當地的優質農產品。', '原味的麵條與麵線各90元；黑芝麻麵條、芋頭麵條、糙米麵條、烏龍茶麵條、金盞花麵條、綠茶麵條是95元。', '原味的麵條與麵線各90元；黑芝麻麵條、芋頭麵條、糙米麵條、烏龍茶麵條、金盞花麵條、綠茶麵條是95元。', '原味的麵條90元。', '原味的麵線90元。', '黑芝麻麵條95元。', '芋頭麵條95元。', '糙米麵條95元。', '烏龍茶麵條95元。', '金盞花麵條95元。', '綠茶麵條95元。', '代代傳承、麵本家獨家的經典風味，來自於中部清澈的水質！唯有製麵達人八十年的真功夫，才能將麥穗鮮度完整保留在麵條中，讓您不只吃好味、更吃出新鮮！', '代代傳承、麵本家獨家的經典風味，來自於中部清澈的水質！唯有製麵達人八十年的真功夫，才能將麥穗鮮度完整保留在麵線中，讓您不只吃好味、更吃出新鮮！', '芋頭麵採用大甲芋，其肉質較為細膩黏滑粉質高(澱粉含量高)，肉色顯白，檳榔纖維絲也較細且淡，為大甲區特有產業，栽種面積有4百公頃，不但居全台之冠，其芋頭鬆軟，香Q品質也居全台之首。', '糙米麵條採用嘉義水上鄉之精心栽種糙米，在優質水質的澆灌下，孕育出絕佳的糙米風味。', '烏龍茶麵條採用原礦家有機烏龍茶葉研磨成粉，再經由製麵達人將高級的烏龍茶完美融入於本家麵條之中，讓麵條中保有烏龍茶原有之青香，讓您吃的健康，更使麵條口感加倍的清爽與彈牙。', '大呷麵本家採用最新低溫烘培技術的全顆黑芝麻，創造出完整保留芝麻原色營養以及香氣的黑芝麻麵，加上麵本家的製麵工夫運用高級麵粉、食鹽等原料製成，營養豐富，風味絕佳，讓您吃的無負擔 ，更使麵條口感加倍的清爽與彈牙！誠為家庭必備與饋贈親友之最佳禮品！', '金盞花不但色澤亮麗，其附帶的營養價值也極高，自古以來即被當作藥用植物，大呷麵本家特選優質金盞花做成的金盞花麵，給您視覺、味覺、無負擔的三重享受。', '嚴選梨山綠茶！由於晝夜溫差大的氣候條件，生產出品質較高的茶葉。製麵達人將高級的綠茶完美融入於本家麵條之中，讓您吃的無負擔，更使麵條口感加倍的清爽與彈牙！']\n",
      "length: 100\n"
     ]
    }
   ],
   "source": [
    "import csv, os\n",
    "\n",
    "os.chdir(\"C:\\\\Serious\\\\Program\\\\Github\\\\noodle_LLM\")\n",
    "\n",
    "which_round = \"A\"\n",
    "model = \"Noodle--type2-8-100E64B\"\n",
    "\n",
    "csv_file_path = f\"./training/LLM_eval/testDataset/type2_{which_round}.csv\"  # Replace with your CSV file path\n",
    "\n",
    "user_values = []\n",
    "model_values = []\n",
    "\n",
    "with open(csv_file_path, mode='r', encoding='utf-8') as csvfile:\n",
    "    csv_reader = csv.DictReader(csvfile)\n",
    "    for row in csv_reader:\n",
    "        user_values.append(row['user'])\n",
    "        model_values.append(row['model'])\n",
    "\n",
    "chat_len = 0\n",
    "if len(user_values) == len(user_values):\n",
    "    chat_len = len(user_values)\n",
    "\n",
    "\n",
    "print(f\"Array of user values: {user_values}\")\n",
    "print(f\"Array of model values: {model_values}\")\n",
    "print(f\"length: {chat_len}\")\n"
   ]
  },
  {
   "cell_type": "code",
   "execution_count": 5,
   "metadata": {},
   "outputs": [
    {
     "data": {
      "text/plain": [
       "[{'role': 'user', 'content': '請介紹綠茶麵條'}]"
      ]
     },
     "execution_count": 5,
     "metadata": {},
     "output_type": "execute_result"
    }
   ],
   "source": [
    "messages=[{\"role\": \"user\", \"content\": user_values[chat_len-1]}]\n",
    "messages"
   ]
  },
  {
   "cell_type": "code",
   "execution_count": 6,
   "metadata": {},
   "outputs": [
    {
     "name": "stdout",
     "output_type": "stream",
     "text": [
      "Question  0 :  你是誰？\n",
      "Eval Dataset :  我是大呷麵本家的製麵工廠虛擬導覽員\n",
      "Model's Ans  :  您好,很高興為您服務!我是大呷麵本家的虛擬導覽員,由人工智慧技術創造,專門為來自世界各地的貴賓提供導覽和資訊服務。請隨時告訴我您需要什麼協助,我會盡最大努力為您解答問題、推薦必吃美食,讓您在大呷麵本家的體驗更加難忘愉快。\n",
      "Latency  :  6.79\n",
      "-----------------\n",
      "Question  1 :  大呷麵本家是什麼？\n",
      "Eval Dataset :  位於台中市大甲的製作麵條工廠，且有精販賣精美的麵條禮盒\n",
      "Model's Ans  :  大呷麵本家是一家源自日本的麵條專賣店,我們致力於將傳統的日本麵條文化與現代化的製麵技術完美融合。從麵粉的選料、製麵的工法到成品的包裝,我們都堅持最高的品質標準,讓每一口麵條都能帶給您絕佳的口感與風味。無論您是想品嚐正宗的日本麵條,還是尋找獨特的禮品選擇,大呷麵本家都將是您的最佳選擇。請問我還能為您提供什麼協助呢?\n",
      "Latency  :  9.41\n",
      "-----------------\n",
      "Question  2 :  這裡是哪裡？\n",
      "Eval Dataset :  這裡是大呷麵本家\n",
      "Model's Ans  :  您現在所在的虛擬空間是大呷麵本家的官方網站,這裡是大呷麵本家的線上商店和資訊中心。透過這個虛擬空間,您可以輕鬆瀏覽我們的產品系列、了解麵條的製作過程、查看營業資訊等等。雖然這是一個虛擬空間,但我們會盡力為您提供與實際來到大呷麵本家一樣的親切服務和高品質體驗。希望這個虛擬導覽對您有幫助,如果還有任何問題,歡迎隨時告訴我。\n",
      "Latency  :  9.66\n",
      "-----------------\n",
      "Question  3 :  大呷麵本家的地址？\n",
      "Eval Dataset :  43750台中市大甲區重義二路153號\n",
      "Model's Ans  :  很抱歉,作為虛擬導覽員,我無法提供大呷麵本家的實際地址資訊。您所在的虛擬空間是大呷麵本家的線上商店和資訊中心,我們主要提供產品介紹、營業資訊等虛擬服務。如果您想了解大呷麵本家的實際營業據點,建議您可以在官網的聯絡方式頁面找到相關資訊,或是聯絡我們的客服人員。再次為無法提供實際地址資訊而致歉,希望其他方面的協助對您有幫助。\n",
      "Latency  :  9.14\n",
      "-----------------\n",
      "Question  4 :  大呷麵本家的電話？\n",
      "Eval Dataset :  04-2686-1026\n",
      "Model's Ans  :  您好,很抱歉我們無法提供大呷麵本家的電話號碼。作為虛擬導覽員,我只能為您提供線上商店和資訊中心的虛擬服務。如果您需要聯絡大呷麵本家,建議您可以在官網的聯絡方式頁面找到電子郵件地址,或是使用線上客服系統與我們的工作人員進行溝通。再次為無法提供電話號碼而致歉,希望其他線上服務對您有幫助。\n",
      "Latency  :  7.98\n",
      "-----------------\n",
      "Question  5 :  大呷麵本家的電子郵件？\n",
      "Eval Dataset :  noodlesorigin@gmail.com\n",
      "Model's Ans  :  您好,大呷麵本家的電子郵件地址可以在我們的官網上找到。請至官網的聯絡方式頁面,您將看到電子郵件的接收端口。也可以使用線上客服系統與我們的工作人員進行即時溝通。希望這些資訊對您有幫助,如果還有任何其他問題,歡迎隨時告訴我。\n",
      "Latency  :  7.55\n",
      "-----------------\n",
      "Question  6 :  你們是大甲面本家嗎？\n",
      "Eval Dataset :  不是，我們是「大呷麵本家」\n",
      "Model's Ans  :  謝謝您的提問。的確,大呷麵本家的名稱是受到日本大甲面本家的啟發,我們希望將大甲面本家的精髓與精神帶給更多人。然而,我們是一家獨立的企業,產品和服務是由我們自己研發和營運。雖然有這層淵源,但我們更希望以自己的方式,為全球的麵條愛好者帶來獨特的日本麵條體驗。希望這個說明有幫助,也歡迎您繼續提問。\n",
      "Latency  :  9.1\n",
      "-----------------\n",
      "Question  7 :  為什麼不叫大甲麵本家？\n",
      "Eval Dataset :  在日本時代都稱為本家大甲。而又因地名不能申請商標，所以在大甲的甲字多個口部，加上麵字，就成為台灣人的用語，呷麵。這是一個結合日本時代的發跡跟台灣文化的融合。\n",
      "Model's Ans  :  您提出了一個很好的問題。雖然我們的名稱受到日本大甲面本家的啟發,但我們選擇將\"呷\"字放在前面,有幾個原因。首先,\"呷\"字是台灣人的用語,代表著對美食的熱愛和享受。將\"呷\"字融入我們的名稱,象徵著我們希望將正宗的日本麵條文化與台灣人的用語和喜好完美結合。其次,\"呷\"字帶有親切、友善的意味,這與我們對顧客的服務理念不謀而合。我們希望每一位顧客在大呷麵本家都能感受到賓至如歸的溫暖,就像在家中用餐一樣。最後,\"呷\"字也帶有對美好事物的渴望和追求。作為麵條專賣店,我們希望不僅提供高品質的產品,更希望將日本麵條文化的精髓帶給更多人,讓大家都能\"呷\"一口日本的好滋味。希望這個解釋能讓您更了解我們選擇名稱的用意。\n",
      "Latency  :  16.06\n",
      "-----------------\n",
      "Question  8 :  大呷麵本家的英文是什麼？\n",
      "Eval Dataset :  Noodles Origin\n",
      "Model's Ans  :  大呷麵本家的英文是Noodles\n",
      "Latency  :  7.03\n",
      "-----------------\n"
     ]
    },
    {
     "ename": "KeyboardInterrupt",
     "evalue": "",
     "output_type": "error",
     "traceback": [
      "\u001b[1;31m---------------------------------------------------------------------------\u001b[0m",
      "\u001b[1;31mKeyboardInterrupt\u001b[0m                         Traceback (most recent call last)",
      "Cell \u001b[1;32mIn[6], line 39\u001b[0m\n\u001b[0;32m     36\u001b[0m             \u001b[38;5;28mprint\u001b[39m(\u001b[38;5;124m\"\u001b[39m\u001b[38;5;124m-----------------\u001b[39m\u001b[38;5;124m\"\u001b[39m)\n\u001b[0;32m     37\u001b[0m             writer\u001b[38;5;241m.\u001b[39mwriterow([i, completion,latency])\n\u001b[1;32m---> 39\u001b[0m \u001b[43mchating\u001b[49m\u001b[43m(\u001b[49m\u001b[43mmodel\u001b[49m\u001b[43m)\u001b[49m\n",
      "Cell \u001b[1;32mIn[6], line 22\u001b[0m, in \u001b[0;36mchating\u001b[1;34m(model)\u001b[0m\n\u001b[0;32m     19\u001b[0m \u001b[38;5;66;03m## ensure MODE TYPE in server\u001b[39;00m\n\u001b[0;32m     21\u001b[0m msg \u001b[38;5;241m=\u001b[39m url\u001b[38;5;241m+\u001b[39muser_message\n\u001b[1;32m---> 22\u001b[0m response \u001b[38;5;241m=\u001b[39m \u001b[43mrequests\u001b[49m\u001b[38;5;241;43m.\u001b[39;49m\u001b[43mget\u001b[49m\u001b[43m(\u001b[49m\u001b[43mmsg\u001b[49m\u001b[43m)\u001b[49m\n\u001b[0;32m     23\u001b[0m response_json \u001b[38;5;241m=\u001b[39m response\u001b[38;5;241m.\u001b[39mjson()\n\u001b[0;32m     24\u001b[0m \u001b[38;5;28;01mif\u001b[39;00m \u001b[38;5;124m\"\u001b[39m\u001b[38;5;124mresponse\u001b[39m\u001b[38;5;124m\"\u001b[39m \u001b[38;5;129;01min\u001b[39;00m response_json:\n",
      "File \u001b[1;32mc:\\Serious\\Program\\venvs\\noodle_LLM\\Lib\\site-packages\\requests\\api.py:76\u001b[0m, in \u001b[0;36mget\u001b[1;34m(url, params, **kwargs)\u001b[0m\n\u001b[0;32m     65\u001b[0m \u001b[38;5;250m\u001b[39m\u001b[38;5;124mr\u001b[39m\u001b[38;5;124;03m\"\"\"Sends a GET request.\u001b[39;00m\n\u001b[0;32m     66\u001b[0m \n\u001b[0;32m     67\u001b[0m \u001b[38;5;124;03m:param url: URL for the new :class:`Request` object.\u001b[39;00m\n\u001b[1;32m   (...)\u001b[0m\n\u001b[0;32m     72\u001b[0m \u001b[38;5;124;03m:rtype: requests.Response\u001b[39;00m\n\u001b[0;32m     73\u001b[0m \u001b[38;5;124;03m\"\"\"\u001b[39;00m\n\u001b[0;32m     75\u001b[0m kwargs\u001b[38;5;241m.\u001b[39msetdefault(\u001b[38;5;124m'\u001b[39m\u001b[38;5;124mallow_redirects\u001b[39m\u001b[38;5;124m'\u001b[39m, \u001b[38;5;28;01mTrue\u001b[39;00m)\n\u001b[1;32m---> 76\u001b[0m \u001b[38;5;28;01mreturn\u001b[39;00m \u001b[43mrequest\u001b[49m\u001b[43m(\u001b[49m\u001b[38;5;124;43m'\u001b[39;49m\u001b[38;5;124;43mget\u001b[39;49m\u001b[38;5;124;43m'\u001b[39;49m\u001b[43m,\u001b[49m\u001b[43m \u001b[49m\u001b[43murl\u001b[49m\u001b[43m,\u001b[49m\u001b[43m \u001b[49m\u001b[43mparams\u001b[49m\u001b[38;5;241;43m=\u001b[39;49m\u001b[43mparams\u001b[49m\u001b[43m,\u001b[49m\u001b[43m \u001b[49m\u001b[38;5;241;43m*\u001b[39;49m\u001b[38;5;241;43m*\u001b[39;49m\u001b[43mkwargs\u001b[49m\u001b[43m)\u001b[49m\n",
      "File \u001b[1;32mc:\\Serious\\Program\\venvs\\noodle_LLM\\Lib\\site-packages\\requests\\api.py:61\u001b[0m, in \u001b[0;36mrequest\u001b[1;34m(method, url, **kwargs)\u001b[0m\n\u001b[0;32m     57\u001b[0m \u001b[38;5;66;03m# By using the 'with' statement we are sure the session is closed, thus we\u001b[39;00m\n\u001b[0;32m     58\u001b[0m \u001b[38;5;66;03m# avoid leaving sockets open which can trigger a ResourceWarning in some\u001b[39;00m\n\u001b[0;32m     59\u001b[0m \u001b[38;5;66;03m# cases, and look like a memory leak in others.\u001b[39;00m\n\u001b[0;32m     60\u001b[0m \u001b[38;5;28;01mwith\u001b[39;00m sessions\u001b[38;5;241m.\u001b[39mSession() \u001b[38;5;28;01mas\u001b[39;00m session:\n\u001b[1;32m---> 61\u001b[0m     \u001b[38;5;28;01mreturn\u001b[39;00m \u001b[43msession\u001b[49m\u001b[38;5;241;43m.\u001b[39;49m\u001b[43mrequest\u001b[49m\u001b[43m(\u001b[49m\u001b[43mmethod\u001b[49m\u001b[38;5;241;43m=\u001b[39;49m\u001b[43mmethod\u001b[49m\u001b[43m,\u001b[49m\u001b[43m \u001b[49m\u001b[43murl\u001b[49m\u001b[38;5;241;43m=\u001b[39;49m\u001b[43murl\u001b[49m\u001b[43m,\u001b[49m\u001b[43m \u001b[49m\u001b[38;5;241;43m*\u001b[39;49m\u001b[38;5;241;43m*\u001b[39;49m\u001b[43mkwargs\u001b[49m\u001b[43m)\u001b[49m\n",
      "File \u001b[1;32mc:\\Serious\\Program\\venvs\\noodle_LLM\\Lib\\site-packages\\requests\\sessions.py:542\u001b[0m, in \u001b[0;36mSession.request\u001b[1;34m(self, method, url, params, data, headers, cookies, files, auth, timeout, allow_redirects, proxies, hooks, stream, verify, cert, json)\u001b[0m\n\u001b[0;32m    537\u001b[0m send_kwargs \u001b[38;5;241m=\u001b[39m {\n\u001b[0;32m    538\u001b[0m     \u001b[38;5;124m'\u001b[39m\u001b[38;5;124mtimeout\u001b[39m\u001b[38;5;124m'\u001b[39m: timeout,\n\u001b[0;32m    539\u001b[0m     \u001b[38;5;124m'\u001b[39m\u001b[38;5;124mallow_redirects\u001b[39m\u001b[38;5;124m'\u001b[39m: allow_redirects,\n\u001b[0;32m    540\u001b[0m }\n\u001b[0;32m    541\u001b[0m send_kwargs\u001b[38;5;241m.\u001b[39mupdate(settings)\n\u001b[1;32m--> 542\u001b[0m resp \u001b[38;5;241m=\u001b[39m \u001b[38;5;28;43mself\u001b[39;49m\u001b[38;5;241;43m.\u001b[39;49m\u001b[43msend\u001b[49m\u001b[43m(\u001b[49m\u001b[43mprep\u001b[49m\u001b[43m,\u001b[49m\u001b[43m \u001b[49m\u001b[38;5;241;43m*\u001b[39;49m\u001b[38;5;241;43m*\u001b[39;49m\u001b[43msend_kwargs\u001b[49m\u001b[43m)\u001b[49m\n\u001b[0;32m    544\u001b[0m \u001b[38;5;28;01mreturn\u001b[39;00m resp\n",
      "File \u001b[1;32mc:\\Serious\\Program\\venvs\\noodle_LLM\\Lib\\site-packages\\requests\\sessions.py:655\u001b[0m, in \u001b[0;36mSession.send\u001b[1;34m(self, request, **kwargs)\u001b[0m\n\u001b[0;32m    652\u001b[0m start \u001b[38;5;241m=\u001b[39m preferred_clock()\n\u001b[0;32m    654\u001b[0m \u001b[38;5;66;03m# Send the request\u001b[39;00m\n\u001b[1;32m--> 655\u001b[0m r \u001b[38;5;241m=\u001b[39m \u001b[43madapter\u001b[49m\u001b[38;5;241;43m.\u001b[39;49m\u001b[43msend\u001b[49m\u001b[43m(\u001b[49m\u001b[43mrequest\u001b[49m\u001b[43m,\u001b[49m\u001b[43m \u001b[49m\u001b[38;5;241;43m*\u001b[39;49m\u001b[38;5;241;43m*\u001b[39;49m\u001b[43mkwargs\u001b[49m\u001b[43m)\u001b[49m\n\u001b[0;32m    657\u001b[0m \u001b[38;5;66;03m# Total elapsed time of the request (approximately)\u001b[39;00m\n\u001b[0;32m    658\u001b[0m elapsed \u001b[38;5;241m=\u001b[39m preferred_clock() \u001b[38;5;241m-\u001b[39m start\n",
      "File \u001b[1;32mc:\\Serious\\Program\\venvs\\noodle_LLM\\Lib\\site-packages\\requests\\adapters.py:439\u001b[0m, in \u001b[0;36mHTTPAdapter.send\u001b[1;34m(self, request, stream, timeout, verify, cert, proxies)\u001b[0m\n\u001b[0;32m    437\u001b[0m \u001b[38;5;28;01mtry\u001b[39;00m:\n\u001b[0;32m    438\u001b[0m     \u001b[38;5;28;01mif\u001b[39;00m \u001b[38;5;129;01mnot\u001b[39;00m chunked:\n\u001b[1;32m--> 439\u001b[0m         resp \u001b[38;5;241m=\u001b[39m \u001b[43mconn\u001b[49m\u001b[38;5;241;43m.\u001b[39;49m\u001b[43murlopen\u001b[49m\u001b[43m(\u001b[49m\n\u001b[0;32m    440\u001b[0m \u001b[43m            \u001b[49m\u001b[43mmethod\u001b[49m\u001b[38;5;241;43m=\u001b[39;49m\u001b[43mrequest\u001b[49m\u001b[38;5;241;43m.\u001b[39;49m\u001b[43mmethod\u001b[49m\u001b[43m,\u001b[49m\n\u001b[0;32m    441\u001b[0m \u001b[43m            \u001b[49m\u001b[43murl\u001b[49m\u001b[38;5;241;43m=\u001b[39;49m\u001b[43murl\u001b[49m\u001b[43m,\u001b[49m\n\u001b[0;32m    442\u001b[0m \u001b[43m            \u001b[49m\u001b[43mbody\u001b[49m\u001b[38;5;241;43m=\u001b[39;49m\u001b[43mrequest\u001b[49m\u001b[38;5;241;43m.\u001b[39;49m\u001b[43mbody\u001b[49m\u001b[43m,\u001b[49m\n\u001b[0;32m    443\u001b[0m \u001b[43m            \u001b[49m\u001b[43mheaders\u001b[49m\u001b[38;5;241;43m=\u001b[39;49m\u001b[43mrequest\u001b[49m\u001b[38;5;241;43m.\u001b[39;49m\u001b[43mheaders\u001b[49m\u001b[43m,\u001b[49m\n\u001b[0;32m    444\u001b[0m \u001b[43m            \u001b[49m\u001b[43mredirect\u001b[49m\u001b[38;5;241;43m=\u001b[39;49m\u001b[38;5;28;43;01mFalse\u001b[39;49;00m\u001b[43m,\u001b[49m\n\u001b[0;32m    445\u001b[0m \u001b[43m            \u001b[49m\u001b[43massert_same_host\u001b[49m\u001b[38;5;241;43m=\u001b[39;49m\u001b[38;5;28;43;01mFalse\u001b[39;49;00m\u001b[43m,\u001b[49m\n\u001b[0;32m    446\u001b[0m \u001b[43m            \u001b[49m\u001b[43mpreload_content\u001b[49m\u001b[38;5;241;43m=\u001b[39;49m\u001b[38;5;28;43;01mFalse\u001b[39;49;00m\u001b[43m,\u001b[49m\n\u001b[0;32m    447\u001b[0m \u001b[43m            \u001b[49m\u001b[43mdecode_content\u001b[49m\u001b[38;5;241;43m=\u001b[39;49m\u001b[38;5;28;43;01mFalse\u001b[39;49;00m\u001b[43m,\u001b[49m\n\u001b[0;32m    448\u001b[0m \u001b[43m            \u001b[49m\u001b[43mretries\u001b[49m\u001b[38;5;241;43m=\u001b[39;49m\u001b[38;5;28;43mself\u001b[39;49m\u001b[38;5;241;43m.\u001b[39;49m\u001b[43mmax_retries\u001b[49m\u001b[43m,\u001b[49m\n\u001b[0;32m    449\u001b[0m \u001b[43m            \u001b[49m\u001b[43mtimeout\u001b[49m\u001b[38;5;241;43m=\u001b[39;49m\u001b[43mtimeout\u001b[49m\n\u001b[0;32m    450\u001b[0m \u001b[43m        \u001b[49m\u001b[43m)\u001b[49m\n\u001b[0;32m    452\u001b[0m     \u001b[38;5;66;03m# Send the request.\u001b[39;00m\n\u001b[0;32m    453\u001b[0m     \u001b[38;5;28;01melse\u001b[39;00m:\n\u001b[0;32m    454\u001b[0m         \u001b[38;5;28;01mif\u001b[39;00m \u001b[38;5;28mhasattr\u001b[39m(conn, \u001b[38;5;124m'\u001b[39m\u001b[38;5;124mproxy_pool\u001b[39m\u001b[38;5;124m'\u001b[39m):\n",
      "File \u001b[1;32mc:\\Serious\\Program\\venvs\\noodle_LLM\\Lib\\site-packages\\urllib3\\connectionpool.py:716\u001b[0m, in \u001b[0;36mHTTPConnectionPool.urlopen\u001b[1;34m(self, method, url, body, headers, retries, redirect, assert_same_host, timeout, pool_timeout, release_conn, chunked, body_pos, **response_kw)\u001b[0m\n\u001b[0;32m    713\u001b[0m     \u001b[38;5;28mself\u001b[39m\u001b[38;5;241m.\u001b[39m_prepare_proxy(conn)\n\u001b[0;32m    715\u001b[0m \u001b[38;5;66;03m# Make the request on the httplib connection object.\u001b[39;00m\n\u001b[1;32m--> 716\u001b[0m httplib_response \u001b[38;5;241m=\u001b[39m \u001b[38;5;28;43mself\u001b[39;49m\u001b[38;5;241;43m.\u001b[39;49m\u001b[43m_make_request\u001b[49m\u001b[43m(\u001b[49m\n\u001b[0;32m    717\u001b[0m \u001b[43m    \u001b[49m\u001b[43mconn\u001b[49m\u001b[43m,\u001b[49m\n\u001b[0;32m    718\u001b[0m \u001b[43m    \u001b[49m\u001b[43mmethod\u001b[49m\u001b[43m,\u001b[49m\n\u001b[0;32m    719\u001b[0m \u001b[43m    \u001b[49m\u001b[43murl\u001b[49m\u001b[43m,\u001b[49m\n\u001b[0;32m    720\u001b[0m \u001b[43m    \u001b[49m\u001b[43mtimeout\u001b[49m\u001b[38;5;241;43m=\u001b[39;49m\u001b[43mtimeout_obj\u001b[49m\u001b[43m,\u001b[49m\n\u001b[0;32m    721\u001b[0m \u001b[43m    \u001b[49m\u001b[43mbody\u001b[49m\u001b[38;5;241;43m=\u001b[39;49m\u001b[43mbody\u001b[49m\u001b[43m,\u001b[49m\n\u001b[0;32m    722\u001b[0m \u001b[43m    \u001b[49m\u001b[43mheaders\u001b[49m\u001b[38;5;241;43m=\u001b[39;49m\u001b[43mheaders\u001b[49m\u001b[43m,\u001b[49m\n\u001b[0;32m    723\u001b[0m \u001b[43m    \u001b[49m\u001b[43mchunked\u001b[49m\u001b[38;5;241;43m=\u001b[39;49m\u001b[43mchunked\u001b[49m\u001b[43m,\u001b[49m\n\u001b[0;32m    724\u001b[0m \u001b[43m\u001b[49m\u001b[43m)\u001b[49m\n\u001b[0;32m    726\u001b[0m \u001b[38;5;66;03m# If we're going to release the connection in ``finally:``, then\u001b[39;00m\n\u001b[0;32m    727\u001b[0m \u001b[38;5;66;03m# the response doesn't need to know about the connection. Otherwise\u001b[39;00m\n\u001b[0;32m    728\u001b[0m \u001b[38;5;66;03m# it will also try to release it and we'll have a double-release\u001b[39;00m\n\u001b[0;32m    729\u001b[0m \u001b[38;5;66;03m# mess.\u001b[39;00m\n\u001b[0;32m    730\u001b[0m response_conn \u001b[38;5;241m=\u001b[39m conn \u001b[38;5;28;01mif\u001b[39;00m \u001b[38;5;129;01mnot\u001b[39;00m release_conn \u001b[38;5;28;01melse\u001b[39;00m \u001b[38;5;28;01mNone\u001b[39;00m\n",
      "File \u001b[1;32mc:\\Serious\\Program\\venvs\\noodle_LLM\\Lib\\site-packages\\urllib3\\connectionpool.py:468\u001b[0m, in \u001b[0;36mHTTPConnectionPool._make_request\u001b[1;34m(self, conn, method, url, timeout, chunked, **httplib_request_kw)\u001b[0m\n\u001b[0;32m    463\u001b[0m             httplib_response \u001b[38;5;241m=\u001b[39m conn\u001b[38;5;241m.\u001b[39mgetresponse()\n\u001b[0;32m    464\u001b[0m         \u001b[38;5;28;01mexcept\u001b[39;00m \u001b[38;5;167;01mBaseException\u001b[39;00m \u001b[38;5;28;01mas\u001b[39;00m e:\n\u001b[0;32m    465\u001b[0m             \u001b[38;5;66;03m# Remove the TypeError from the exception chain in\u001b[39;00m\n\u001b[0;32m    466\u001b[0m             \u001b[38;5;66;03m# Python 3 (including for exceptions like SystemExit).\u001b[39;00m\n\u001b[0;32m    467\u001b[0m             \u001b[38;5;66;03m# Otherwise it looks like a bug in the code.\u001b[39;00m\n\u001b[1;32m--> 468\u001b[0m             \u001b[43msix\u001b[49m\u001b[38;5;241;43m.\u001b[39;49m\u001b[43mraise_from\u001b[49m\u001b[43m(\u001b[49m\u001b[43me\u001b[49m\u001b[43m,\u001b[49m\u001b[43m \u001b[49m\u001b[38;5;28;43;01mNone\u001b[39;49;00m\u001b[43m)\u001b[49m\n\u001b[0;32m    469\u001b[0m \u001b[38;5;28;01mexcept\u001b[39;00m (SocketTimeout, BaseSSLError, SocketError) \u001b[38;5;28;01mas\u001b[39;00m e:\n\u001b[0;32m    470\u001b[0m     \u001b[38;5;28mself\u001b[39m\u001b[38;5;241m.\u001b[39m_raise_timeout(err\u001b[38;5;241m=\u001b[39me, url\u001b[38;5;241m=\u001b[39murl, timeout_value\u001b[38;5;241m=\u001b[39mread_timeout)\n",
      "File \u001b[1;32m<string>:3\u001b[0m, in \u001b[0;36mraise_from\u001b[1;34m(value, from_value)\u001b[0m\n",
      "File \u001b[1;32mc:\\Serious\\Program\\venvs\\noodle_LLM\\Lib\\site-packages\\urllib3\\connectionpool.py:463\u001b[0m, in \u001b[0;36mHTTPConnectionPool._make_request\u001b[1;34m(self, conn, method, url, timeout, chunked, **httplib_request_kw)\u001b[0m\n\u001b[0;32m    460\u001b[0m \u001b[38;5;28;01mexcept\u001b[39;00m \u001b[38;5;167;01mTypeError\u001b[39;00m:\n\u001b[0;32m    461\u001b[0m     \u001b[38;5;66;03m# Python 3\u001b[39;00m\n\u001b[0;32m    462\u001b[0m     \u001b[38;5;28;01mtry\u001b[39;00m:\n\u001b[1;32m--> 463\u001b[0m         httplib_response \u001b[38;5;241m=\u001b[39m \u001b[43mconn\u001b[49m\u001b[38;5;241;43m.\u001b[39;49m\u001b[43mgetresponse\u001b[49m\u001b[43m(\u001b[49m\u001b[43m)\u001b[49m\n\u001b[0;32m    464\u001b[0m     \u001b[38;5;28;01mexcept\u001b[39;00m \u001b[38;5;167;01mBaseException\u001b[39;00m \u001b[38;5;28;01mas\u001b[39;00m e:\n\u001b[0;32m    465\u001b[0m         \u001b[38;5;66;03m# Remove the TypeError from the exception chain in\u001b[39;00m\n\u001b[0;32m    466\u001b[0m         \u001b[38;5;66;03m# Python 3 (including for exceptions like SystemExit).\u001b[39;00m\n\u001b[0;32m    467\u001b[0m         \u001b[38;5;66;03m# Otherwise it looks like a bug in the code.\u001b[39;00m\n\u001b[0;32m    468\u001b[0m         six\u001b[38;5;241m.\u001b[39mraise_from(e, \u001b[38;5;28;01mNone\u001b[39;00m)\n",
      "File \u001b[1;32m~\\AppData\\Local\\Programs\\Python\\Python312\\Lib\\http\\client.py:1411\u001b[0m, in \u001b[0;36mHTTPConnection.getresponse\u001b[1;34m(self)\u001b[0m\n\u001b[0;32m   1409\u001b[0m \u001b[38;5;28;01mtry\u001b[39;00m:\n\u001b[0;32m   1410\u001b[0m     \u001b[38;5;28;01mtry\u001b[39;00m:\n\u001b[1;32m-> 1411\u001b[0m         \u001b[43mresponse\u001b[49m\u001b[38;5;241;43m.\u001b[39;49m\u001b[43mbegin\u001b[49m\u001b[43m(\u001b[49m\u001b[43m)\u001b[49m\n\u001b[0;32m   1412\u001b[0m     \u001b[38;5;28;01mexcept\u001b[39;00m \u001b[38;5;167;01mConnectionError\u001b[39;00m:\n\u001b[0;32m   1413\u001b[0m         \u001b[38;5;28mself\u001b[39m\u001b[38;5;241m.\u001b[39mclose()\n",
      "File \u001b[1;32m~\\AppData\\Local\\Programs\\Python\\Python312\\Lib\\http\\client.py:324\u001b[0m, in \u001b[0;36mHTTPResponse.begin\u001b[1;34m(self)\u001b[0m\n\u001b[0;32m    322\u001b[0m \u001b[38;5;66;03m# read until we get a non-100 response\u001b[39;00m\n\u001b[0;32m    323\u001b[0m \u001b[38;5;28;01mwhile\u001b[39;00m \u001b[38;5;28;01mTrue\u001b[39;00m:\n\u001b[1;32m--> 324\u001b[0m     version, status, reason \u001b[38;5;241m=\u001b[39m \u001b[38;5;28;43mself\u001b[39;49m\u001b[38;5;241;43m.\u001b[39;49m\u001b[43m_read_status\u001b[49m\u001b[43m(\u001b[49m\u001b[43m)\u001b[49m\n\u001b[0;32m    325\u001b[0m     \u001b[38;5;28;01mif\u001b[39;00m status \u001b[38;5;241m!=\u001b[39m CONTINUE:\n\u001b[0;32m    326\u001b[0m         \u001b[38;5;28;01mbreak\u001b[39;00m\n",
      "File \u001b[1;32m~\\AppData\\Local\\Programs\\Python\\Python312\\Lib\\http\\client.py:285\u001b[0m, in \u001b[0;36mHTTPResponse._read_status\u001b[1;34m(self)\u001b[0m\n\u001b[0;32m    284\u001b[0m \u001b[38;5;28;01mdef\u001b[39;00m \u001b[38;5;21m_read_status\u001b[39m(\u001b[38;5;28mself\u001b[39m):\n\u001b[1;32m--> 285\u001b[0m     line \u001b[38;5;241m=\u001b[39m \u001b[38;5;28mstr\u001b[39m(\u001b[38;5;28;43mself\u001b[39;49m\u001b[38;5;241;43m.\u001b[39;49m\u001b[43mfp\u001b[49m\u001b[38;5;241;43m.\u001b[39;49m\u001b[43mreadline\u001b[49m\u001b[43m(\u001b[49m\u001b[43m_MAXLINE\u001b[49m\u001b[43m \u001b[49m\u001b[38;5;241;43m+\u001b[39;49m\u001b[43m \u001b[49m\u001b[38;5;241;43m1\u001b[39;49m\u001b[43m)\u001b[49m, \u001b[38;5;124m\"\u001b[39m\u001b[38;5;124miso-8859-1\u001b[39m\u001b[38;5;124m\"\u001b[39m)\n\u001b[0;32m    286\u001b[0m     \u001b[38;5;28;01mif\u001b[39;00m \u001b[38;5;28mlen\u001b[39m(line) \u001b[38;5;241m>\u001b[39m _MAXLINE:\n\u001b[0;32m    287\u001b[0m         \u001b[38;5;28;01mraise\u001b[39;00m LineTooLong(\u001b[38;5;124m\"\u001b[39m\u001b[38;5;124mstatus line\u001b[39m\u001b[38;5;124m\"\u001b[39m)\n",
      "File \u001b[1;32m~\\AppData\\Local\\Programs\\Python\\Python312\\Lib\\socket.py:707\u001b[0m, in \u001b[0;36mSocketIO.readinto\u001b[1;34m(self, b)\u001b[0m\n\u001b[0;32m    705\u001b[0m \u001b[38;5;28;01mwhile\u001b[39;00m \u001b[38;5;28;01mTrue\u001b[39;00m:\n\u001b[0;32m    706\u001b[0m     \u001b[38;5;28;01mtry\u001b[39;00m:\n\u001b[1;32m--> 707\u001b[0m         \u001b[38;5;28;01mreturn\u001b[39;00m \u001b[38;5;28;43mself\u001b[39;49m\u001b[38;5;241;43m.\u001b[39;49m\u001b[43m_sock\u001b[49m\u001b[38;5;241;43m.\u001b[39;49m\u001b[43mrecv_into\u001b[49m\u001b[43m(\u001b[49m\u001b[43mb\u001b[49m\u001b[43m)\u001b[49m\n\u001b[0;32m    708\u001b[0m     \u001b[38;5;28;01mexcept\u001b[39;00m timeout:\n\u001b[0;32m    709\u001b[0m         \u001b[38;5;28mself\u001b[39m\u001b[38;5;241m.\u001b[39m_timeout_occurred \u001b[38;5;241m=\u001b[39m \u001b[38;5;28;01mTrue\u001b[39;00m\n",
      "\u001b[1;31mKeyboardInterrupt\u001b[0m: "
     ]
    }
   ],
   "source": [
    "import requests, time\n",
    "\n",
    "\n",
    "\n",
    "url = \"http://140.128.102.119:58840/dajianoodle/guide/llm/2f/twllm/\"\n",
    "output_name = f\"lora_{model.lstrip(\"Noodle--\")}\"\n",
    "\n",
    "def chating(model):\n",
    "    with open(f'./training/LLM_eval/chatOutput/{output_name}_{which_round}.csv', mode='w', newline='', encoding='utf-8') as file:\n",
    "        writer = csv.writer(file)\n",
    "        writer.writerow([\"Question Number\", \"Model's Answer\", \"Latency\"])   \n",
    "\n",
    "\n",
    "        for i in range(0, chat_len):\n",
    "            time0 = time.time()\n",
    "\n",
    "            user_message = user_values[i]\n",
    "\n",
    "            ## ensure MODE TYPE in server\n",
    "\n",
    "            msg = url+user_message\n",
    "            response = requests.get(msg)\n",
    "            response_json = response.json()\n",
    "            if \"response\" in response_json:\n",
    "                completion = response_json[\"response\"][\"answer\"]\n",
    "            else:\n",
    "                print(response_json)\n",
    "\n",
    "            \n",
    "            latency = round(time.time() - time0, 2)\n",
    "\n",
    "            print(\"Question \", i, \": \", user_values[i])\n",
    "            print(\"Eval Dataset : \", model_values[i])\n",
    "            print(\"Model's Ans  : \",completion)\n",
    "            print(\"Latency  : \",latency)\n",
    "            print(\"-----------------\")\n",
    "            writer.writerow([i, completion,latency])\n",
    "\n",
    "chating(model)\n",
    "\n"
   ]
  }
 ],
 "metadata": {
  "kernelspec": {
   "display_name": "noodle_LLM",
   "language": "python",
   "name": "python3"
  },
  "language_info": {
   "codemirror_mode": {
    "name": "ipython",
    "version": 3
   },
   "file_extension": ".py",
   "mimetype": "text/x-python",
   "name": "python",
   "nbconvert_exporter": "python",
   "pygments_lexer": "ipython3",
   "version": "3.12.0"
  }
 },
 "nbformat": 4,
 "nbformat_minor": 2
}
