{
 "cells": [
  {
   "cell_type": "code",
   "execution_count": 4,
   "metadata": {},
   "outputs": [
    {
     "name": "stdout",
     "output_type": "stream",
     "text": [
      "Array of user values: ['你是誰？', '請你幫我安排去大呷麵本家的旅遊行程。', '大呷麵本家是什麼？', '這裡是哪裡？', '大呷麵本家的地址？', '大呷麵本家的電話？', '如何聯絡大呷麵本家？', '大呷麵本家的電子郵件？', '你們是大甲面本家嗎？', '大呷麵本家的名稱中的大呷是什麼意思？', '為什麼不叫大甲麵本家？', '大呷麵本家的英文名字是什麼？', 'What is your english name?', '大呷麵本家的營業時間？', '大呷麵本家的官網？', '大呷麵本家有哪些國際認證？', '大呷麵本家用哪些原料製麵？', '大呷麵本家製麵是如何製麵的？', '製麵工廠是如何實現生產機械化的？', '鹽水間是用來做什麼的？', '什麼時候調製鹽水？', '調製完鹽水下一步是什麼？', '什麼時候調製麵糰？', '混合成為麵糰下一步是什麼？', '製作特殊口味的麵條時，什麼時候加入調味的原料？', '攪拌麵團的時間是怎麼控制的？', '混和好口味的麵糰下一步是什麼？', '如何保證麵條的厚度一致？', '製麵流程中如何避免麵條變得太厚？', '製麵流程中如何避免麵條變得太薄？', '壓製好的麵餅下一步是什麼？', '什麼時候進行分條？', '有幾種寬度的麵條？', '分條使用的工具是什麼？', '製麵流程中如何處理不同寬度的麵條？', '分條後的長麵條下一步是什麼？', '長麵條是如何乾燥？', '長麵條的乾燥過程需要多久？', '乾燥時間是如何確定的？', '為什麼要模擬日曬？', '乾燥室的工作原理是什麼？', '如何模擬日曬來乾燥長麵條？', '乾燥長麵條需要檢測什麼數據？', '製麵過程中如何確保長麵條的水分含量達標？', '長麵條的水分含量超標會有什麼問題？', '乾燥完成的長麵條下一步是什麼？', '什麼時候進行切分？', '乾燥完成的長麵條如何分成一份？', '乾燥完成的長麵條會切分成多長的麵條？', '裁切完成的半成品麵條下一步是什麼？', '為什麼一份要分成100公克？', '將切分完成的半成品麵條綑成一束下一步是什麼？', '什麼時候進行封口機封口後包裝？', '自動計量機有什麼作用？', '製麵過程中為什麼使用自動計量機？', '自動計量機是什麼？', '包裝的規格有哪些？', '封口包裝下一步是什麼？', '什麼時候進行金屬檢測？', '製麵工廠如何確保產品的安全性？', '為什麼製麵需要使用金屬檢測器？', '製麵工廠的包裝流程是什麼？', '製麵工廠如何進行成品的最終包裝？', '如何確保麵條在包裝後不會受到污染？', '製麵工廠如何防止蟲害問題？', '製麵工廠如何防止成品在包裝後被污染？', '製麵工廠如何防止異物進入包裝？', '什麼是清潔區？', '包裝在哪個區？', '大呷麵製麵工廠是在什麼環境下包裝？', '什麼是準清潔區？', '生產製麵是在哪一區？', '鹽水間哪一區？', '製麵機是在哪一區？', '乾燥室是在哪一區？', '分切長麵條是在哪一區？', '麵餅分條是在哪一區？', '製麵過程中的防護裝備有哪些？', '製麵工廠的清潔區有什麼特殊要求？', '製麵工廠的清潔區有哪些防護措施？', '這邊一共有多少商品？', '有幾種麵條？', '這邊商品有什麼？', '這邊麵條有什麼口味？', '有什麼麵條？', '有什麼口味的麵條？', '大呷麵本家如何製作芋頭口味？', '大呷麵本家如何製作烏龍茶口味？', '你們的原料來自於哪裡？', '你們的原料來自於台灣嗎？', '各種商品價格多少？', '各種麵條價格多少？', '原味的麵條價格多少？', '原味的麵線價格多少？', '黑芝麻麵條價格多少？', '芋頭麵條價格多少？', '糙米麵條價格多少？', '烏龍茶麵條價格多少？', '金盞花麵條價格多少？', '綠茶麵條價格多少？']\n",
      "Array of model values: ['我是大呷麵本家的製麵工廠虛擬導覽員。', '非常不好意思，安排行程不是我的專長，你可以問1F的導覽員。', '位於台中市大甲的製作麵條工廠，且有精販賣精美的麵條禮盒。', '這裡是大呷麵本家。', '大呷麵本家的地址是43750台中市大甲區重義二路153號。', '大呷麵本家的電話是04-2686-1026。', '可以用電話聯絡或者是電子郵件聯絡，我們的電話是04-2686-1026，我們的電子郵件是noodlesorigin@gmail.com。', '大呷麵本家的電子郵件是noodlesorigin@gmail.com。', '不是，我們是「大呷麵本家」。', '大呷源自於地名大甲，所以大甲的甲字口部加上家字成為台灣人的用語呷麵，這是結合日本時代的發跡和台灣文化的融合。', '在日本時代都稱為本家大甲。而又因地名不能申請商標，所以在大甲的甲字多個口部，加上麵字，就成為台灣人的用語，呷麵。這是一個結合日本時代的發跡跟台灣文化的融合。', '大呷麵本家的英文名字是Noodles Origin。', 'My name is Noodles Origin。', '大呷麵本家的營業時間是\"週一至週五/9:00~18:00（公司／故事館）；週六、週日/接受團體預約參觀（故事館）\"。', '大呷麵本家的官網是https://www.noodlesorigin.com/index.php?lang=tw。', '我們的產品通過ISO22000&HACCP國際食品安全管制系統認證。', '麵粉、鹽巴和水。', '大呷麵本家麵條是基於台灣古早味改良，現在是用機械化產線製麵。', '製麵工廠將自動攪拌、輾壓、分條、乾燥和計量設備設定標準，實現了大部分生產過程的機械化，以保持高水準的品質與食品安全。', '我們的鹽水間是用來調製鹽水，鹽水的濃度會依照標準化程序調製。', '製麵流程一開始在鹽水間是用來調製鹽水，鹽水的濃度會依照標準化程序調製。', '我們會將調製好的鹽水再與麵粉按比例混合成為麵糰。', '在鹽水調製好後，我們會將調製好的鹽水再與麵粉按比例混合成為麵糰。', '我們會將混和好的麵糰倒入製麵機的下料槽，再加入依照口味需求的原料進行混合。', '在麵糰混和好以後倒入製麵機的下料槽，再加入依照口味需求的原料進行混合。', '攪拌麵團的時間是ISO標準化的，根據標準進行正轉和負轉來壓製。', '製麵機會將麵糰分開桿成麵皮，再將兩部分疊在一起壓製成麵餅，並且經過滾輪的持續壓製將厚度變為1公分。', '經由將分開成兩部分的麵皮疊在一起壓製成麵餅，並且經過滾輪的持續壓製將厚度變為1公分，確保不會有太薄或太厚的部分。', '透過滾輪輾壓來減少麵皮厚度，確保麵條達到標準厚度，不會變得過厚。', '透過在一開始就用兩片麵皮經過滾輪輾壓，確保麵條達到標準厚度，不會變得過薄。', '我們會將壓製成1公分的麵餅用麵刀依照寬度分條，一共有四種寬度：麵線、麵條、寬麵、最寬的麵。', '在將麵餅壓製成1公分後用麵刀依照寬度分條。', '一共有四種寬度：麵線、麵條、寬麵、最寬的麵。', '分條過程中使用麵刀。', '分條過程中使用麵刀，將壓製成1公分的麵餅用麵刀依照寬度分條。', '分條後的麵條會掛在乾燥架上，送至乾燥室進行乾燥。', '長麵條會掛在乾燥架上，送至乾燥室進行乾燥。', '視當天天氣情況而定，長麵條通常需要在乾燥室中乾燥5個半小時，模擬日曬的時間。', '視當天天氣情況而定，長麵條通常需要在乾燥室中乾燥5個半小時，如果乾燥程度不夠則會繼續乾燥。', '因為我們是依據台灣古早味的手法改良，控制溫度以及濕度模擬日曬的環境，依照天氣情況調整溫度、濕度以及乾燥時間。', '我們控制溫度以及濕度模擬日曬的環境。', '我們經由控制溫度以及濕度模擬日曬的環境，依照天氣情況調整溫度、濕度以及乾燥時間。', '長麵條的乾燥程度，長麵條水分必須降低至12%。', '長麵條會在乾燥室乾燥使長麵條水分降低至12%，如果乾燥程度不夠則會繼續乾燥。', '如果長麵條的水分含量超過12%，它可能會在包裝後發霉或變質，影響品質。', '乾燥完成的長麵條依照長度進行切分，長度為19到20公分，並且將切分好的半成品麵條捆成1束，通常1束為100公克。', '在乾燥完成的長麵條依照長度進行切分，長度為19到20公分，。', '在依照19到20公分的長度切分好後的麵條捆成1束，通常1束為100公克。', '半成品麵條長度為19到20公分。', '將切分好的半成品麵條捆成1束，通常1束為100公克。', '因為100公克是一般人一餐所需的量。', '綑成一束的半成品麵條經過自動計量機檢測重量是否有達到標準，達到標準後依規格進行封口機封口後包裝。', '在半成品麵條綑綁完成後，經過自動計量機檢測重量是否有達到標準，達到標準後依規格進行封口機封口後包裝。', '半成品麵條經過自動計量機檢測重量是否有達到標準，確保每一束半成品麵條的份量一致。', '要使用自動計量機檢測半成品麵條重量是否有達到標準，確保每一束半成品麵條的份量一致。', '自動計量機檢測半成品麵條重量是否有達到標準，確保每一束半成品麵條的份量一致。', '包裝有量販包裝、禮盒包裝。', '完成封口包裝後會經過金屬檢測機和含水量檢查進行最後的檢測，確保食品衛生以及食品安全。', '在半成品麵條完成封口包裝後會經過金屬檢測機和含水量檢查。', '使用金屬檢測機和含水量檢查進行最後的檢測，確保食品衛生以及食品安全。', '因為金屬檢測器可以用來檢測麵條中是否含有金屬雜質，確保食品的安全。', '成品經過封口、金屬檢測和含水量檢查後，會被放進禮盒內或是使用袋裝，準備出貨。', '在經過封口、金屬檢測和含水量檢查後包裝，有量販包裝、禮盒包裝。。', '我們藉由清潔區分區，成品經過封口機封口後不再接觸外界環境，確保不會有交叉污染。', '我們藉由清潔區分區，成品經過封口機封口後不再接觸外界環境，以防止蟲害問題。', '我們藉由清潔區分區，成品經過封口機封口後不再接觸外界環境，以防止成品遭受汙染。', '工廠內採取清潔區和準清潔區分區的方式，並通過防護設備確保沒有交叉污染。', '清潔區是用來進行包裝的空間，以確保食品衛生以及食品安全。', '包裝在清潔區。', '我們在清潔區包裝。', '準清潔區則是生產製麵的空間，例如鹽水間和乾燥室。', '生產製麵在準清潔區。', '鹽水間在準清潔區。', '製麵機在準清潔區。', '乾燥室在準清潔區。', '分切長麵條在準清潔區。', '麵餅分條在準清潔區。', '工作人員防護裝備有防塵衣、口罩、髮網、鞋套等防護裝備。', '工作人員需穿戴防塵衣、口罩、髮網、鞋套等防護裝備，並進行標準化防護操作，以確保食品衛生以及食品安全。', '工作人員需穿戴防塵衣、口罩、髮網、鞋套等防護裝備，進場前有風淋室。', '8種，其中有各式各樣口味的麵條與麵線', '8種，其中有各式各樣口味的麵條與麵線', '有原味麵條、原味麵線、黑芝麻麵條、芋頭麵條、糙米麵條、烏龍茶麵條、金盞花麵條、綠茶麵條。', '有原味麵條、原味麵線、黑芝麻麵條、芋頭麵條、糙米麵條、烏龍茶麵條、金盞花麵條、綠茶麵條。', '有原味麵條、原味麵線、黑芝麻麵條、芋頭麵條、糙米麵條、烏龍茶麵條、金盞花麵條、綠茶麵條。', '有原味麵條、原味麵線、黑芝麻麵條、芋頭麵條、糙米麵條、烏龍茶麵條、金盞花麵條、綠茶麵條。', '我們會將鹽水與麵粉混和好的麵糰倒入製麵機的下料槽，再加入依照口味需求加入大甲芋頭原料進行混合。', '我們會將鹽水與麵粉混和好的麵糰倒入製麵機的下料槽，再加入依照口味需求加入烏龍茶原料進行混合。', '我們的麵條原料來自於台灣當地的優質農產品。', '是的，我們的麵條原料來自於台灣當地的優質農產品。', '原味的麵條與麵線各90元；黑芝麻麵條、芋頭麵條、糙米麵條、烏龍茶麵條、金盞花麵條、綠茶麵條都是95元。', '原味的麵條與麵線各90元；黑芝麻麵條、芋頭麵條、糙米麵條、烏龍茶麵條、金盞花麵條、綠茶麵條都是95元。', '原味的麵條是90元。', '原味的麵線是90元。', '黑芝麻麵條是95元。', '芋頭麵條是95元。', '糙米麵條是95元。', '烏龍茶麵條是95元。', '金盞花麵條是95元。', '綠茶麵條是95元。']\n",
      "length: 100\n"
     ]
    }
   ],
   "source": [
    "import csv, os\n",
    "\n",
    "os.chdir(\"C:\\\\Serious\\\\Program\\\\Github\\\\noodle_LLM\")\n",
    "\n",
    "\n",
    "### only this two places\n",
    "which_round = \"A\"\n",
    "\n",
    "###\n",
    "\n",
    "csv_file_path = f\"./training/LLM_eval/testDataset/type3_{which_round}.csv\"  \n",
    "\n",
    "user_values = []\n",
    "model_values = []\n",
    "\n",
    "with open(csv_file_path, mode='r', encoding='utf-8') as csvfile:\n",
    "    csv_reader = csv.DictReader(csvfile)\n",
    "    for row in csv_reader:\n",
    "        user_values.append(row['user'])\n",
    "        model_values.append(row['model'])\n",
    "\n",
    "chat_len = 0\n",
    "if len(user_values) == len(user_values):\n",
    "    chat_len = len(user_values)\n",
    "\n",
    "\n",
    "print(f\"Array of user values: {user_values}\")\n",
    "print(f\"Array of model values: {model_values}\")\n",
    "print(f\"length: {chat_len}\")\n"
   ]
  },
  {
   "cell_type": "code",
   "execution_count": 5,
   "metadata": {},
   "outputs": [
    {
     "data": {
      "text/plain": [
       "[{'role': 'user', 'content': '綠茶麵條價格多少？'}]"
      ]
     },
     "execution_count": 5,
     "metadata": {},
     "output_type": "execute_result"
    }
   ],
   "source": [
    "messages=[{\"role\": \"user\", \"content\": user_values[chat_len-1]}]\n",
    "messages"
   ]
  },
  {
   "cell_type": "code",
   "execution_count": 6,
   "metadata": {},
   "outputs": [
    {
     "name": "stdout",
     "output_type": "stream",
     "text": [
      "Question  0 :  你是誰？\n",
      "Eval Dataset :  我是大呷麵本家的製麵工廠虛擬導覽員。\n",
      "Model's Ans  :  我是大呷麵本家的製麵工廠虛擬導覽員。\n",
      "Latency  :  6.6\n",
      "-----------------\n",
      "Question  1 :  請你幫我安排去大呷麵本家的旅遊行程。\n",
      "Eval Dataset :  非常不好意思，安排行程不是我的專長，你可以問1F的導覽員。\n",
      "Model's Ans  :  非常不好意思，安排行程不是我的專長，你可以問1F的導覽員。\n",
      "Latency  :  4.77\n",
      "-----------------\n",
      "Question  2 :  大呷麵本家是什麼？\n",
      "Eval Dataset :  位於台中市大甲的製作麵條工廠，且有精販賣精美的麵條禮盒。\n",
      "Model's Ans  :  位於台中市大甲的製作麵條工廠，且有精販賣精美的麵條禮盒。\n",
      "Latency  :  6.61\n",
      "-----------------\n",
      "Question  3 :  這裡是哪裡？\n",
      "Eval Dataset :  這裡是大呷麵本家。\n",
      "Model's Ans  :  對不起，我無法生成回答，請重新再詢問一遍。\n",
      "Latency  :  1.22\n",
      "-----------------\n",
      "Question  4 :  大呷麵本家的地址？\n",
      "Eval Dataset :  大呷麵本家的地址是43750台中市大甲區重義二路153號。\n",
      "Model's Ans  :  對不起，我無法生成回答，請重新再詢問一遍。\n",
      "Latency  :  0.52\n",
      "-----------------\n",
      "Question  5 :  大呷麵本家的電話？\n",
      "Eval Dataset :  大呷麵本家的電話是04-2686-1026。\n",
      "Model's Ans  :  對不起，我無法生成回答，請重新再詢問一遍。\n",
      "Latency  :  1.2\n",
      "-----------------\n",
      "Question  6 :  如何聯絡大呷麵本家？\n",
      "Eval Dataset :  可以用電話聯絡或者是電子郵件聯絡，我們的電話是04-2686-1026，我們的電子郵件是noodlesorigin@gmail.com。\n",
      "Model's Ans  :  對不起，我無法生成回答，請重新再詢問一遍。\n",
      "Latency  :  1.2\n",
      "-----------------\n",
      "Question  7 :  大呷麵本家的電子郵件？\n",
      "Eval Dataset :  大呷麵本家的電子郵件是noodlesorigin@gmail.com。\n",
      "Model's Ans  :  對不起，我無法生成回答，請重新再詢問一遍。\n",
      "Latency  :  0.52\n",
      "-----------------\n",
      "Question  8 :  你們是大甲面本家嗎？\n",
      "Eval Dataset :  不是，我們是「大呷麵本家」。\n",
      "Model's Ans  :  對不起，我無法生成回答，請重新再詢問一遍。\n",
      "Latency  :  1.17\n",
      "-----------------\n",
      "Question  9 :  大呷麵本家的名稱中的大呷是什麼意思？\n",
      "Eval Dataset :  大呷源自於地名大甲，所以大甲的甲字口部加上家字成為台灣人的用語呷麵，這是結合日本時代的發跡和台灣文化的融合。\n",
      "Model's Ans  :  對不起，我無法生成回答，請重新再詢問一遍。\n",
      "Latency  :  0.53\n",
      "-----------------\n",
      "Question  10 :  為什麼不叫大甲麵本家？\n",
      "Eval Dataset :  在日本時代都稱為本家大甲。而又因地名不能申請商標，所以在大甲的甲字多個口部，加上麵字，就成為台灣人的用語，呷麵。這是一個結合日本時代的發跡跟台灣文化的融合。\n",
      "Model's Ans  :  對不起，我無法生成回答，請重新再詢問一遍。\n",
      "Latency  :  0.5\n",
      "-----------------\n",
      "Question  11 :  大呷麵本家的英文名字是什麼？\n",
      "Eval Dataset :  大呷麵本家的英文名字是Noodles Origin。\n",
      "Model's Ans  :  對不起，我無法生成回答，請重新再詢問一遍。\n",
      "Latency  :  0.51\n",
      "-----------------\n",
      "Question  12 :  What is your english name?\n",
      "Eval Dataset :  My name is Noodles Origin。\n",
      "Model's Ans  :  對不起，我無法生成回答，請重新再詢問一遍。\n",
      "Latency  :  1.19\n",
      "-----------------\n"
     ]
    },
    {
     "ename": "KeyboardInterrupt",
     "evalue": "",
     "output_type": "error",
     "traceback": [
      "\u001b[1;31m---------------------------------------------------------------------------\u001b[0m",
      "\u001b[1;31mKeyboardInterrupt\u001b[0m                         Traceback (most recent call last)",
      "Cell \u001b[1;32mIn[6], line 39\u001b[0m\n\u001b[0;32m     36\u001b[0m             \u001b[38;5;28mprint\u001b[39m(\u001b[38;5;124m\"\u001b[39m\u001b[38;5;124m-----------------\u001b[39m\u001b[38;5;124m\"\u001b[39m)\n\u001b[0;32m     37\u001b[0m             writer\u001b[38;5;241m.\u001b[39mwriterow([i, completion,latency])\n\u001b[1;32m---> 39\u001b[0m \u001b[43mchating\u001b[49m\u001b[43m(\u001b[49m\u001b[43mmodel\u001b[49m\u001b[43m)\u001b[49m\n",
      "Cell \u001b[1;32mIn[6], line 22\u001b[0m, in \u001b[0;36mchating\u001b[1;34m(model)\u001b[0m\n\u001b[0;32m     19\u001b[0m \u001b[38;5;66;03m## ensure MODE TYPE in server\u001b[39;00m\n\u001b[0;32m     21\u001b[0m msg \u001b[38;5;241m=\u001b[39m url\u001b[38;5;241m+\u001b[39muser_message\n\u001b[1;32m---> 22\u001b[0m response \u001b[38;5;241m=\u001b[39m \u001b[43mrequests\u001b[49m\u001b[38;5;241;43m.\u001b[39;49m\u001b[43mget\u001b[49m\u001b[43m(\u001b[49m\u001b[43mmsg\u001b[49m\u001b[43m)\u001b[49m\n\u001b[0;32m     23\u001b[0m response_json \u001b[38;5;241m=\u001b[39m response\u001b[38;5;241m.\u001b[39mjson()\n\u001b[0;32m     24\u001b[0m \u001b[38;5;28;01mif\u001b[39;00m \u001b[38;5;124m\"\u001b[39m\u001b[38;5;124mresponse\u001b[39m\u001b[38;5;124m\"\u001b[39m \u001b[38;5;129;01min\u001b[39;00m response_json:\n",
      "File \u001b[1;32mc:\\Serious\\Program\\venvs\\noodle_LLM\\Lib\\site-packages\\requests\\api.py:73\u001b[0m, in \u001b[0;36mget\u001b[1;34m(url, params, **kwargs)\u001b[0m\n\u001b[0;32m     62\u001b[0m \u001b[38;5;28;01mdef\u001b[39;00m \u001b[38;5;21mget\u001b[39m(url, params\u001b[38;5;241m=\u001b[39m\u001b[38;5;28;01mNone\u001b[39;00m, \u001b[38;5;241m*\u001b[39m\u001b[38;5;241m*\u001b[39mkwargs):\n\u001b[0;32m     63\u001b[0m \u001b[38;5;250m    \u001b[39m\u001b[38;5;124mr\u001b[39m\u001b[38;5;124;03m\"\"\"Sends a GET request.\u001b[39;00m\n\u001b[0;32m     64\u001b[0m \n\u001b[0;32m     65\u001b[0m \u001b[38;5;124;03m    :param url: URL for the new :class:`Request` object.\u001b[39;00m\n\u001b[1;32m   (...)\u001b[0m\n\u001b[0;32m     70\u001b[0m \u001b[38;5;124;03m    :rtype: requests.Response\u001b[39;00m\n\u001b[0;32m     71\u001b[0m \u001b[38;5;124;03m    \"\"\"\u001b[39;00m\n\u001b[1;32m---> 73\u001b[0m     \u001b[38;5;28;01mreturn\u001b[39;00m \u001b[43mrequest\u001b[49m\u001b[43m(\u001b[49m\u001b[38;5;124;43m\"\u001b[39;49m\u001b[38;5;124;43mget\u001b[39;49m\u001b[38;5;124;43m\"\u001b[39;49m\u001b[43m,\u001b[49m\u001b[43m \u001b[49m\u001b[43murl\u001b[49m\u001b[43m,\u001b[49m\u001b[43m \u001b[49m\u001b[43mparams\u001b[49m\u001b[38;5;241;43m=\u001b[39;49m\u001b[43mparams\u001b[49m\u001b[43m,\u001b[49m\u001b[43m \u001b[49m\u001b[38;5;241;43m*\u001b[39;49m\u001b[38;5;241;43m*\u001b[39;49m\u001b[43mkwargs\u001b[49m\u001b[43m)\u001b[49m\n",
      "File \u001b[1;32mc:\\Serious\\Program\\venvs\\noodle_LLM\\Lib\\site-packages\\requests\\api.py:59\u001b[0m, in \u001b[0;36mrequest\u001b[1;34m(method, url, **kwargs)\u001b[0m\n\u001b[0;32m     55\u001b[0m \u001b[38;5;66;03m# By using the 'with' statement we are sure the session is closed, thus we\u001b[39;00m\n\u001b[0;32m     56\u001b[0m \u001b[38;5;66;03m# avoid leaving sockets open which can trigger a ResourceWarning in some\u001b[39;00m\n\u001b[0;32m     57\u001b[0m \u001b[38;5;66;03m# cases, and look like a memory leak in others.\u001b[39;00m\n\u001b[0;32m     58\u001b[0m \u001b[38;5;28;01mwith\u001b[39;00m sessions\u001b[38;5;241m.\u001b[39mSession() \u001b[38;5;28;01mas\u001b[39;00m session:\n\u001b[1;32m---> 59\u001b[0m     \u001b[38;5;28;01mreturn\u001b[39;00m \u001b[43msession\u001b[49m\u001b[38;5;241;43m.\u001b[39;49m\u001b[43mrequest\u001b[49m\u001b[43m(\u001b[49m\u001b[43mmethod\u001b[49m\u001b[38;5;241;43m=\u001b[39;49m\u001b[43mmethod\u001b[49m\u001b[43m,\u001b[49m\u001b[43m \u001b[49m\u001b[43murl\u001b[49m\u001b[38;5;241;43m=\u001b[39;49m\u001b[43murl\u001b[49m\u001b[43m,\u001b[49m\u001b[43m \u001b[49m\u001b[38;5;241;43m*\u001b[39;49m\u001b[38;5;241;43m*\u001b[39;49m\u001b[43mkwargs\u001b[49m\u001b[43m)\u001b[49m\n",
      "File \u001b[1;32mc:\\Serious\\Program\\venvs\\noodle_LLM\\Lib\\site-packages\\requests\\sessions.py:589\u001b[0m, in \u001b[0;36mSession.request\u001b[1;34m(self, method, url, params, data, headers, cookies, files, auth, timeout, allow_redirects, proxies, hooks, stream, verify, cert, json)\u001b[0m\n\u001b[0;32m    584\u001b[0m send_kwargs \u001b[38;5;241m=\u001b[39m {\n\u001b[0;32m    585\u001b[0m     \u001b[38;5;124m\"\u001b[39m\u001b[38;5;124mtimeout\u001b[39m\u001b[38;5;124m\"\u001b[39m: timeout,\n\u001b[0;32m    586\u001b[0m     \u001b[38;5;124m\"\u001b[39m\u001b[38;5;124mallow_redirects\u001b[39m\u001b[38;5;124m\"\u001b[39m: allow_redirects,\n\u001b[0;32m    587\u001b[0m }\n\u001b[0;32m    588\u001b[0m send_kwargs\u001b[38;5;241m.\u001b[39mupdate(settings)\n\u001b[1;32m--> 589\u001b[0m resp \u001b[38;5;241m=\u001b[39m \u001b[38;5;28;43mself\u001b[39;49m\u001b[38;5;241;43m.\u001b[39;49m\u001b[43msend\u001b[49m\u001b[43m(\u001b[49m\u001b[43mprep\u001b[49m\u001b[43m,\u001b[49m\u001b[43m \u001b[49m\u001b[38;5;241;43m*\u001b[39;49m\u001b[38;5;241;43m*\u001b[39;49m\u001b[43msend_kwargs\u001b[49m\u001b[43m)\u001b[49m\n\u001b[0;32m    591\u001b[0m \u001b[38;5;28;01mreturn\u001b[39;00m resp\n",
      "File \u001b[1;32mc:\\Serious\\Program\\venvs\\noodle_LLM\\Lib\\site-packages\\requests\\sessions.py:703\u001b[0m, in \u001b[0;36mSession.send\u001b[1;34m(self, request, **kwargs)\u001b[0m\n\u001b[0;32m    700\u001b[0m start \u001b[38;5;241m=\u001b[39m preferred_clock()\n\u001b[0;32m    702\u001b[0m \u001b[38;5;66;03m# Send the request\u001b[39;00m\n\u001b[1;32m--> 703\u001b[0m r \u001b[38;5;241m=\u001b[39m \u001b[43madapter\u001b[49m\u001b[38;5;241;43m.\u001b[39;49m\u001b[43msend\u001b[49m\u001b[43m(\u001b[49m\u001b[43mrequest\u001b[49m\u001b[43m,\u001b[49m\u001b[43m \u001b[49m\u001b[38;5;241;43m*\u001b[39;49m\u001b[38;5;241;43m*\u001b[39;49m\u001b[43mkwargs\u001b[49m\u001b[43m)\u001b[49m\n\u001b[0;32m    705\u001b[0m \u001b[38;5;66;03m# Total elapsed time of the request (approximately)\u001b[39;00m\n\u001b[0;32m    706\u001b[0m elapsed \u001b[38;5;241m=\u001b[39m preferred_clock() \u001b[38;5;241m-\u001b[39m start\n",
      "File \u001b[1;32mc:\\Serious\\Program\\venvs\\noodle_LLM\\Lib\\site-packages\\requests\\adapters.py:667\u001b[0m, in \u001b[0;36mHTTPAdapter.send\u001b[1;34m(self, request, stream, timeout, verify, cert, proxies)\u001b[0m\n\u001b[0;32m    664\u001b[0m     timeout \u001b[38;5;241m=\u001b[39m TimeoutSauce(connect\u001b[38;5;241m=\u001b[39mtimeout, read\u001b[38;5;241m=\u001b[39mtimeout)\n\u001b[0;32m    666\u001b[0m \u001b[38;5;28;01mtry\u001b[39;00m:\n\u001b[1;32m--> 667\u001b[0m     resp \u001b[38;5;241m=\u001b[39m \u001b[43mconn\u001b[49m\u001b[38;5;241;43m.\u001b[39;49m\u001b[43murlopen\u001b[49m\u001b[43m(\u001b[49m\n\u001b[0;32m    668\u001b[0m \u001b[43m        \u001b[49m\u001b[43mmethod\u001b[49m\u001b[38;5;241;43m=\u001b[39;49m\u001b[43mrequest\u001b[49m\u001b[38;5;241;43m.\u001b[39;49m\u001b[43mmethod\u001b[49m\u001b[43m,\u001b[49m\n\u001b[0;32m    669\u001b[0m \u001b[43m        \u001b[49m\u001b[43murl\u001b[49m\u001b[38;5;241;43m=\u001b[39;49m\u001b[43murl\u001b[49m\u001b[43m,\u001b[49m\n\u001b[0;32m    670\u001b[0m \u001b[43m        \u001b[49m\u001b[43mbody\u001b[49m\u001b[38;5;241;43m=\u001b[39;49m\u001b[43mrequest\u001b[49m\u001b[38;5;241;43m.\u001b[39;49m\u001b[43mbody\u001b[49m\u001b[43m,\u001b[49m\n\u001b[0;32m    671\u001b[0m \u001b[43m        \u001b[49m\u001b[43mheaders\u001b[49m\u001b[38;5;241;43m=\u001b[39;49m\u001b[43mrequest\u001b[49m\u001b[38;5;241;43m.\u001b[39;49m\u001b[43mheaders\u001b[49m\u001b[43m,\u001b[49m\n\u001b[0;32m    672\u001b[0m \u001b[43m        \u001b[49m\u001b[43mredirect\u001b[49m\u001b[38;5;241;43m=\u001b[39;49m\u001b[38;5;28;43;01mFalse\u001b[39;49;00m\u001b[43m,\u001b[49m\n\u001b[0;32m    673\u001b[0m \u001b[43m        \u001b[49m\u001b[43massert_same_host\u001b[49m\u001b[38;5;241;43m=\u001b[39;49m\u001b[38;5;28;43;01mFalse\u001b[39;49;00m\u001b[43m,\u001b[49m\n\u001b[0;32m    674\u001b[0m \u001b[43m        \u001b[49m\u001b[43mpreload_content\u001b[49m\u001b[38;5;241;43m=\u001b[39;49m\u001b[38;5;28;43;01mFalse\u001b[39;49;00m\u001b[43m,\u001b[49m\n\u001b[0;32m    675\u001b[0m \u001b[43m        \u001b[49m\u001b[43mdecode_content\u001b[49m\u001b[38;5;241;43m=\u001b[39;49m\u001b[38;5;28;43;01mFalse\u001b[39;49;00m\u001b[43m,\u001b[49m\n\u001b[0;32m    676\u001b[0m \u001b[43m        \u001b[49m\u001b[43mretries\u001b[49m\u001b[38;5;241;43m=\u001b[39;49m\u001b[38;5;28;43mself\u001b[39;49m\u001b[38;5;241;43m.\u001b[39;49m\u001b[43mmax_retries\u001b[49m\u001b[43m,\u001b[49m\n\u001b[0;32m    677\u001b[0m \u001b[43m        \u001b[49m\u001b[43mtimeout\u001b[49m\u001b[38;5;241;43m=\u001b[39;49m\u001b[43mtimeout\u001b[49m\u001b[43m,\u001b[49m\n\u001b[0;32m    678\u001b[0m \u001b[43m        \u001b[49m\u001b[43mchunked\u001b[49m\u001b[38;5;241;43m=\u001b[39;49m\u001b[43mchunked\u001b[49m\u001b[43m,\u001b[49m\n\u001b[0;32m    679\u001b[0m \u001b[43m    \u001b[49m\u001b[43m)\u001b[49m\n\u001b[0;32m    681\u001b[0m \u001b[38;5;28;01mexcept\u001b[39;00m (ProtocolError, \u001b[38;5;167;01mOSError\u001b[39;00m) \u001b[38;5;28;01mas\u001b[39;00m err:\n\u001b[0;32m    682\u001b[0m     \u001b[38;5;28;01mraise\u001b[39;00m \u001b[38;5;167;01mConnectionError\u001b[39;00m(err, request\u001b[38;5;241m=\u001b[39mrequest)\n",
      "File \u001b[1;32mc:\\Serious\\Program\\venvs\\noodle_LLM\\Lib\\site-packages\\urllib3\\connectionpool.py:789\u001b[0m, in \u001b[0;36mHTTPConnectionPool.urlopen\u001b[1;34m(self, method, url, body, headers, retries, redirect, assert_same_host, timeout, pool_timeout, release_conn, chunked, body_pos, preload_content, decode_content, **response_kw)\u001b[0m\n\u001b[0;32m    786\u001b[0m response_conn \u001b[38;5;241m=\u001b[39m conn \u001b[38;5;28;01mif\u001b[39;00m \u001b[38;5;129;01mnot\u001b[39;00m release_conn \u001b[38;5;28;01melse\u001b[39;00m \u001b[38;5;28;01mNone\u001b[39;00m\n\u001b[0;32m    788\u001b[0m \u001b[38;5;66;03m# Make the request on the HTTPConnection object\u001b[39;00m\n\u001b[1;32m--> 789\u001b[0m response \u001b[38;5;241m=\u001b[39m \u001b[38;5;28;43mself\u001b[39;49m\u001b[38;5;241;43m.\u001b[39;49m\u001b[43m_make_request\u001b[49m\u001b[43m(\u001b[49m\n\u001b[0;32m    790\u001b[0m \u001b[43m    \u001b[49m\u001b[43mconn\u001b[49m\u001b[43m,\u001b[49m\n\u001b[0;32m    791\u001b[0m \u001b[43m    \u001b[49m\u001b[43mmethod\u001b[49m\u001b[43m,\u001b[49m\n\u001b[0;32m    792\u001b[0m \u001b[43m    \u001b[49m\u001b[43murl\u001b[49m\u001b[43m,\u001b[49m\n\u001b[0;32m    793\u001b[0m \u001b[43m    \u001b[49m\u001b[43mtimeout\u001b[49m\u001b[38;5;241;43m=\u001b[39;49m\u001b[43mtimeout_obj\u001b[49m\u001b[43m,\u001b[49m\n\u001b[0;32m    794\u001b[0m \u001b[43m    \u001b[49m\u001b[43mbody\u001b[49m\u001b[38;5;241;43m=\u001b[39;49m\u001b[43mbody\u001b[49m\u001b[43m,\u001b[49m\n\u001b[0;32m    795\u001b[0m \u001b[43m    \u001b[49m\u001b[43mheaders\u001b[49m\u001b[38;5;241;43m=\u001b[39;49m\u001b[43mheaders\u001b[49m\u001b[43m,\u001b[49m\n\u001b[0;32m    796\u001b[0m \u001b[43m    \u001b[49m\u001b[43mchunked\u001b[49m\u001b[38;5;241;43m=\u001b[39;49m\u001b[43mchunked\u001b[49m\u001b[43m,\u001b[49m\n\u001b[0;32m    797\u001b[0m \u001b[43m    \u001b[49m\u001b[43mretries\u001b[49m\u001b[38;5;241;43m=\u001b[39;49m\u001b[43mretries\u001b[49m\u001b[43m,\u001b[49m\n\u001b[0;32m    798\u001b[0m \u001b[43m    \u001b[49m\u001b[43mresponse_conn\u001b[49m\u001b[38;5;241;43m=\u001b[39;49m\u001b[43mresponse_conn\u001b[49m\u001b[43m,\u001b[49m\n\u001b[0;32m    799\u001b[0m \u001b[43m    \u001b[49m\u001b[43mpreload_content\u001b[49m\u001b[38;5;241;43m=\u001b[39;49m\u001b[43mpreload_content\u001b[49m\u001b[43m,\u001b[49m\n\u001b[0;32m    800\u001b[0m \u001b[43m    \u001b[49m\u001b[43mdecode_content\u001b[49m\u001b[38;5;241;43m=\u001b[39;49m\u001b[43mdecode_content\u001b[49m\u001b[43m,\u001b[49m\n\u001b[0;32m    801\u001b[0m \u001b[43m    \u001b[49m\u001b[38;5;241;43m*\u001b[39;49m\u001b[38;5;241;43m*\u001b[39;49m\u001b[43mresponse_kw\u001b[49m\u001b[43m,\u001b[49m\n\u001b[0;32m    802\u001b[0m \u001b[43m\u001b[49m\u001b[43m)\u001b[49m\n\u001b[0;32m    804\u001b[0m \u001b[38;5;66;03m# Everything went great!\u001b[39;00m\n\u001b[0;32m    805\u001b[0m clean_exit \u001b[38;5;241m=\u001b[39m \u001b[38;5;28;01mTrue\u001b[39;00m\n",
      "File \u001b[1;32mc:\\Serious\\Program\\venvs\\noodle_LLM\\Lib\\site-packages\\urllib3\\connectionpool.py:536\u001b[0m, in \u001b[0;36mHTTPConnectionPool._make_request\u001b[1;34m(self, conn, method, url, body, headers, retries, timeout, chunked, response_conn, preload_content, decode_content, enforce_content_length)\u001b[0m\n\u001b[0;32m    534\u001b[0m \u001b[38;5;66;03m# Receive the response from the server\u001b[39;00m\n\u001b[0;32m    535\u001b[0m \u001b[38;5;28;01mtry\u001b[39;00m:\n\u001b[1;32m--> 536\u001b[0m     response \u001b[38;5;241m=\u001b[39m \u001b[43mconn\u001b[49m\u001b[38;5;241;43m.\u001b[39;49m\u001b[43mgetresponse\u001b[49m\u001b[43m(\u001b[49m\u001b[43m)\u001b[49m\n\u001b[0;32m    537\u001b[0m \u001b[38;5;28;01mexcept\u001b[39;00m (BaseSSLError, \u001b[38;5;167;01mOSError\u001b[39;00m) \u001b[38;5;28;01mas\u001b[39;00m e:\n\u001b[0;32m    538\u001b[0m     \u001b[38;5;28mself\u001b[39m\u001b[38;5;241m.\u001b[39m_raise_timeout(err\u001b[38;5;241m=\u001b[39me, url\u001b[38;5;241m=\u001b[39murl, timeout_value\u001b[38;5;241m=\u001b[39mread_timeout)\n",
      "File \u001b[1;32mc:\\Serious\\Program\\venvs\\noodle_LLM\\Lib\\site-packages\\urllib3\\connection.py:464\u001b[0m, in \u001b[0;36mHTTPConnection.getresponse\u001b[1;34m(self)\u001b[0m\n\u001b[0;32m    461\u001b[0m \u001b[38;5;28;01mfrom\u001b[39;00m \u001b[38;5;21;01m.\u001b[39;00m\u001b[38;5;21;01mresponse\u001b[39;00m \u001b[38;5;28;01mimport\u001b[39;00m HTTPResponse\n\u001b[0;32m    463\u001b[0m \u001b[38;5;66;03m# Get the response from http.client.HTTPConnection\u001b[39;00m\n\u001b[1;32m--> 464\u001b[0m httplib_response \u001b[38;5;241m=\u001b[39m \u001b[38;5;28;43msuper\u001b[39;49m\u001b[43m(\u001b[49m\u001b[43m)\u001b[49m\u001b[38;5;241;43m.\u001b[39;49m\u001b[43mgetresponse\u001b[49m\u001b[43m(\u001b[49m\u001b[43m)\u001b[49m\n\u001b[0;32m    466\u001b[0m \u001b[38;5;28;01mtry\u001b[39;00m:\n\u001b[0;32m    467\u001b[0m     assert_header_parsing(httplib_response\u001b[38;5;241m.\u001b[39mmsg)\n",
      "File \u001b[1;32m~\\AppData\\Local\\Programs\\Python\\Python312\\Lib\\http\\client.py:1428\u001b[0m, in \u001b[0;36mHTTPConnection.getresponse\u001b[1;34m(self)\u001b[0m\n\u001b[0;32m   1426\u001b[0m \u001b[38;5;28;01mtry\u001b[39;00m:\n\u001b[0;32m   1427\u001b[0m     \u001b[38;5;28;01mtry\u001b[39;00m:\n\u001b[1;32m-> 1428\u001b[0m         \u001b[43mresponse\u001b[49m\u001b[38;5;241;43m.\u001b[39;49m\u001b[43mbegin\u001b[49m\u001b[43m(\u001b[49m\u001b[43m)\u001b[49m\n\u001b[0;32m   1429\u001b[0m     \u001b[38;5;28;01mexcept\u001b[39;00m \u001b[38;5;167;01mConnectionError\u001b[39;00m:\n\u001b[0;32m   1430\u001b[0m         \u001b[38;5;28mself\u001b[39m\u001b[38;5;241m.\u001b[39mclose()\n",
      "File \u001b[1;32m~\\AppData\\Local\\Programs\\Python\\Python312\\Lib\\http\\client.py:331\u001b[0m, in \u001b[0;36mHTTPResponse.begin\u001b[1;34m(self)\u001b[0m\n\u001b[0;32m    329\u001b[0m \u001b[38;5;66;03m# read until we get a non-100 response\u001b[39;00m\n\u001b[0;32m    330\u001b[0m \u001b[38;5;28;01mwhile\u001b[39;00m \u001b[38;5;28;01mTrue\u001b[39;00m:\n\u001b[1;32m--> 331\u001b[0m     version, status, reason \u001b[38;5;241m=\u001b[39m \u001b[38;5;28;43mself\u001b[39;49m\u001b[38;5;241;43m.\u001b[39;49m\u001b[43m_read_status\u001b[49m\u001b[43m(\u001b[49m\u001b[43m)\u001b[49m\n\u001b[0;32m    332\u001b[0m     \u001b[38;5;28;01mif\u001b[39;00m status \u001b[38;5;241m!=\u001b[39m CONTINUE:\n\u001b[0;32m    333\u001b[0m         \u001b[38;5;28;01mbreak\u001b[39;00m\n",
      "File \u001b[1;32m~\\AppData\\Local\\Programs\\Python\\Python312\\Lib\\http\\client.py:292\u001b[0m, in \u001b[0;36mHTTPResponse._read_status\u001b[1;34m(self)\u001b[0m\n\u001b[0;32m    291\u001b[0m \u001b[38;5;28;01mdef\u001b[39;00m \u001b[38;5;21m_read_status\u001b[39m(\u001b[38;5;28mself\u001b[39m):\n\u001b[1;32m--> 292\u001b[0m     line \u001b[38;5;241m=\u001b[39m \u001b[38;5;28mstr\u001b[39m(\u001b[38;5;28;43mself\u001b[39;49m\u001b[38;5;241;43m.\u001b[39;49m\u001b[43mfp\u001b[49m\u001b[38;5;241;43m.\u001b[39;49m\u001b[43mreadline\u001b[49m\u001b[43m(\u001b[49m\u001b[43m_MAXLINE\u001b[49m\u001b[43m \u001b[49m\u001b[38;5;241;43m+\u001b[39;49m\u001b[43m \u001b[49m\u001b[38;5;241;43m1\u001b[39;49m\u001b[43m)\u001b[49m, \u001b[38;5;124m\"\u001b[39m\u001b[38;5;124miso-8859-1\u001b[39m\u001b[38;5;124m\"\u001b[39m)\n\u001b[0;32m    293\u001b[0m     \u001b[38;5;28;01mif\u001b[39;00m \u001b[38;5;28mlen\u001b[39m(line) \u001b[38;5;241m>\u001b[39m _MAXLINE:\n\u001b[0;32m    294\u001b[0m         \u001b[38;5;28;01mraise\u001b[39;00m LineTooLong(\u001b[38;5;124m\"\u001b[39m\u001b[38;5;124mstatus line\u001b[39m\u001b[38;5;124m\"\u001b[39m)\n",
      "File \u001b[1;32m~\\AppData\\Local\\Programs\\Python\\Python312\\Lib\\socket.py:720\u001b[0m, in \u001b[0;36mSocketIO.readinto\u001b[1;34m(self, b)\u001b[0m\n\u001b[0;32m    718\u001b[0m \u001b[38;5;28;01mwhile\u001b[39;00m \u001b[38;5;28;01mTrue\u001b[39;00m:\n\u001b[0;32m    719\u001b[0m     \u001b[38;5;28;01mtry\u001b[39;00m:\n\u001b[1;32m--> 720\u001b[0m         \u001b[38;5;28;01mreturn\u001b[39;00m \u001b[38;5;28;43mself\u001b[39;49m\u001b[38;5;241;43m.\u001b[39;49m\u001b[43m_sock\u001b[49m\u001b[38;5;241;43m.\u001b[39;49m\u001b[43mrecv_into\u001b[49m\u001b[43m(\u001b[49m\u001b[43mb\u001b[49m\u001b[43m)\u001b[49m\n\u001b[0;32m    721\u001b[0m     \u001b[38;5;28;01mexcept\u001b[39;00m timeout:\n\u001b[0;32m    722\u001b[0m         \u001b[38;5;28mself\u001b[39m\u001b[38;5;241m.\u001b[39m_timeout_occurred \u001b[38;5;241m=\u001b[39m \u001b[38;5;28;01mTrue\u001b[39;00m\n",
      "\u001b[1;31mKeyboardInterrupt\u001b[0m: "
     ]
    }
   ],
   "source": [
    "import requests, time\n",
    "\n",
    "\n",
    "\n",
    "url = \"http://140.128.102.119:58840/dajianoodle/guide/llm/2f/gemini/\"\n",
    "output_name = f\"gemini\"\n",
    "\n",
    "def chating():\n",
    "    with open(f'./training/LLM_eval/chatOutput/{output_name}_{which_round}.csv', mode='w', newline='', encoding='utf-8') as file:\n",
    "        writer = csv.writer(file)\n",
    "        writer.writerow([\"Question Number\", \"Model's Answer\", \"Latency\"])   \n",
    "\n",
    "\n",
    "        for i in range(0, chat_len):\n",
    "            time0 = time.time()\n",
    "\n",
    "            user_message = user_values[i]\n",
    "\n",
    "            ## ensure MODE TYPE in server\n",
    "\n",
    "            msg = url+user_message\n",
    "            response = requests.get(msg)\n",
    "            response_json = response.json()\n",
    "            if \"response\" in response_json:\n",
    "                completion = response_json[\"response\"][\"answer\"]\n",
    "            else:\n",
    "                print(response_json)\n",
    "\n",
    "            \n",
    "            latency = round(time.time() - time0, 2)\n",
    "\n",
    "            print(\"Question \", i, \": \", user_values[i])\n",
    "            print(\"Eval Dataset : \", model_values[i])\n",
    "            print(\"Model's Ans  : \",completion)\n",
    "            print(\"Latency  : \",latency)\n",
    "            print(\"-----------------\")\n",
    "            writer.writerow([i, completion,latency])\n",
    "\n",
    "chating()\n",
    "\n"
   ]
  }
 ],
 "metadata": {
  "kernelspec": {
   "display_name": "noodle_LLM",
   "language": "python",
   "name": "python3"
  },
  "language_info": {
   "codemirror_mode": {
    "name": "ipython",
    "version": 3
   },
   "file_extension": ".py",
   "mimetype": "text/x-python",
   "name": "python",
   "nbconvert_exporter": "python",
   "pygments_lexer": "ipython3",
   "version": "3.12.5"
  }
 },
 "nbformat": 4,
 "nbformat_minor": 2
}
